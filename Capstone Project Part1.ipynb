{
    "cells": [
        {
            "metadata": {
                "collapsed": true
            },
            "cell_type": "markdown",
            "source": "### Business Problem"
        },
        {
            "metadata": {},
            "cell_type": "markdown",
            "source": "\nA client of a Real Estate agency requests to find the best zone for an apartment in Bucharest,Romania.<br>\nHis main requests are:\n<ul>\n    <li>to be a family-friendly community</li>\n    <li>to be near the central zone</li>\n    <li>to have a park near the house</li>\n    <li>to be near the metro</li>\n    <li>to have at least one school in the neighbourhood</li>\n</ul>"
        },
        {
            "metadata": {},
            "cell_type": "markdown",
            "source": "Data Requirements\n\n<table  style=\"width:40%\">\n    <tr>\n        <td><center><b> Sources</b></center></td>\n        <td><center><b> Use </b></center></td>\n    </tr>\n    <tr>\n    <td><center>The Foursquare location data</center></td>\n        <td><center><i> I will use the Foursquare location data to fill all the client's requested criteria</i></center></td>\n    </tr>\n    <tr>\n    <td><center><a href=\"https://www.regatta.ro/en/apartments-sale/\">Link to the apartments in the selected zone</a> </center></td>\n        <td><center><i> I will use the apartments website to see which are the offers in the zone</i></center></td>\n    </tr>\n</table>"
        },
        {
            "metadata": {},
            "cell_type": "code",
            "source": "",
            "execution_count": null,
            "outputs": []
        }
    ],
    "metadata": {
        "kernelspec": {
            "name": "python3",
            "display_name": "Python 3.7",
            "language": "python"
        },
        "language_info": {
            "name": "python",
            "version": "3.7.10",
            "mimetype": "text/x-python",
            "codemirror_mode": {
                "name": "ipython",
                "version": 3
            },
            "pygments_lexer": "ipython3",
            "nbconvert_exporter": "python",
            "file_extension": ".py"
        }
    },
    "nbformat": 4,
    "nbformat_minor": 1
}