{
    "cells": [
        {
            "cell_type": "markdown",
            "metadata": {},
            "source": " # My Capstone Project "
        },
        {
            "cell_type": "markdown",
            "metadata": {
                "collapsed": true
            },
            "source": " ### 1. Business Problem"
        },
        {
            "cell_type": "markdown",
            "metadata": {},
            "source": "\nA client of a Real Estate agency requests to find the best zone for an apartment in Bucharest,Romania.<br>\nHis main requests are:\n<ul>\n    <li>to be a family-friendly community</li>\n    <li>to be near the central zone</li>\n    <li>to have a park near the house</li>\n    <li>to be near the metro</li>\n    <li>to have at least one school in the neighbourhood</li>\n</ul>"
        },
        {
            "cell_type": "markdown",
            "metadata": {},
            "source": "### Data Requirements"
        },
        {
            "cell_type": "markdown",
            "metadata": {},
            "source": "\n\n<table  style=\"width:40%\">\n    <tr>\n        <td><center><b> Sources</b></center></td>\n        <td><center><b> Use </b></center></td>\n    </tr>\n    <tr>\n    <td><center>The Foursquare location data</center></td>\n        <td><center><i> I will use the Foursquare location data to fill all the client's requested criteria</i></center></td>\n    </tr>\n    <tr>\n    <td><center><a href=\"https://www.regatta.ro/en/apartments-sale/\">Link to the apartments in the selected zone</a> </center></td>\n        <td><center><i> I will use the apartments website to see which are the offers in the zone</i></center></td>\n    </tr>\n</table>"
        }
    ],
    "metadata": {
        "kernelspec": {
            "display_name": "Python 3.7",
            "language": "python",
            "name": "python3"
        },
        "language_info": {
            "codemirror_mode": {
                "name": "ipython",
                "version": 3
            },
            "file_extension": ".py",
            "mimetype": "text/x-python",
            "name": "python",
            "nbconvert_exporter": "python",
            "pygments_lexer": "ipython3",
            "version": "3.7.10"
        }
    },
    "nbformat": 4,
    "nbformat_minor": 1
}