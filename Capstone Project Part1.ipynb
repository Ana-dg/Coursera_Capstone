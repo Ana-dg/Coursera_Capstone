{
    "cells": [
        {
            "metadata": {},
            "cell_type": "markdown",
            "source": " # My Capstone Project "
        },
        {
            "metadata": {
                "collapsed": true
            },
            "cell_type": "markdown",
            "source": " ### 1. Business Problem"
        },
        {
            "metadata": {},
            "cell_type": "markdown",
            "source": "<b>Background</b><br>\nNowadays there are a variety of choices, especially when it comes to real estate. I'm part of the DataScientists group of a Real Estate agency and I was requested to find the best apartment in Bucharest, Romania and to fit the criteria set by the client.<br>"
        },
        {
            "metadata": {},
            "cell_type": "markdown",
            "source": "His main requests are:\n<ul>\n    <li>to have 1 or 2 rooms</li>\n    <li>to be a family-friendly community</li>\n    <li>to be near the central zone</li>\n    <li>to have a park near the house</li>\n    <li>to be near the metro</li>\n    <li>to have at least one school in the neighbourhood</li>\n</ul>"
        },
        {
            "metadata": {},
            "cell_type": "markdown",
            "source": "<b>Problem</b><br>\nWhat is the best option of a family apartment in Bucharest in 2021?\n"
        },
        {
            "metadata": {},
            "cell_type": "markdown",
            "source": "### 2. Data Requirements"
        },
        {
            "metadata": {},
            "cell_type": "markdown",
            "source": "\n<b>Sources</b>\n<ul>\n    <li>The Foursquare location data-<i> I will use the Foursquare location data to fill all the client's requested criteria about how the zone should be like</i></li>\n    <li>Real Estate csv<i>- I will use a Real Estate csv found on kaggle with the prices and the locations of the apartments(from april 2021), which will give me the opportunity to search for an apartment that will suit my client the best </i></li>\n</ul>\n\n"
        },
        {
            "metadata": {},
            "cell_type": "code",
            "source": "\nimport os, types\nimport pandas as pd\nfrom botocore.client import Config\nimport ibm_boto3\n\ndef __iter__(self): return 0\n\n# @hidden_cell\n# The following code accesses a file in your IBM Cloud Object Storage. It includes your credentials.\n# You might want to remove those credentials before you share the notebook.\n\nif os.environ.get('RUNTIME_ENV_LOCATION_TYPE') == 'external':\n    endpoint_16475beb6cbb4290bd48aba78f55c3fc = 'https://s3-api.us-geo.objectstorage.softlayer.net'\nelse:\n    endpoint_16475beb6cbb4290bd48aba78f55c3fc = 'https://s3-api.us-geo.objectstorage.service.networklayer.com'\n\nclient_16475beb6cbb4290bd48aba78f55c3fc = ibm_boto3.client(service_name='s3',\n    ibm_api_key_id='XyA0Jq2tgY_seNUIV1RH2AvXtpjTj_zDooM3Iw-qedp9',\n    ibm_auth_endpoint=\"https://iam.cloud.ibm.com/oidc/token\",\n    config=Config(signature_version='oauth'),\n    endpoint_url=endpoint_16475beb6cbb4290bd48aba78f55c3fc)\n\nbody = client_16475beb6cbb4290bd48aba78f55c3fc.get_object(Bucket='courseracapstone-donotdelete-pr-blnl0m5qwmfblx',Key='house_sales_april_2021.csv')['Body']\n# add missing __iter__ method, so pandas accepts body as file-like object\nif not hasattr(body, \"__iter__\"): body.__iter__ = types.MethodType( __iter__, body )\n\ndf = pd.read_csv(body)\ndf.head()\ndf.columns\nthe columns of the csv are: location_area,price,rooms_count and subway_distance",
            "execution_count": 4,
            "outputs": [
                {
                    "output_type": "execute_result",
                    "execution_count": 4,
                    "data": {
                        "text/plain": "Index(['id', 'updated_at', 'location', 'location_area', 'subway_dist',\n       'partitioning', 'comfort', 'furnished', 'heater_owner', 'price',\n       'rooms_count', 'useful_surface', 'built_surface', 'construction_year',\n       'real_estate_type', 'height_regime', 'level', 'max_level',\n       'kitchens_count', 'bathrooms_count', 'garages_count',\n       'parking_lots_count', 'balconies_count'],\n      dtype='object')"
                    },
                    "metadata": {}
                }
            ]
        },
        {
            "metadata": {},
            "cell_type": "code",
            "source": "",
            "execution_count": null,
            "outputs": []
        }
    ],
    "metadata": {
        "kernelspec": {
            "name": "python3",
            "display_name": "Python 3.7",
            "language": "python"
        },
        "language_info": {
            "name": "python",
            "version": "3.7.10",
            "mimetype": "text/x-python",
            "codemirror_mode": {
                "name": "ipython",
                "version": 3
            },
            "pygments_lexer": "ipython3",
            "nbconvert_exporter": "python",
            "file_extension": ".py"
        }
    },
    "nbformat": 4,
    "nbformat_minor": 1
}