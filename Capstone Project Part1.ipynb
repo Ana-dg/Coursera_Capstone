{
    "cells": [
        {
            "cell_type": "markdown",
            "metadata": {},
            "source": " # My Capstone Project "
        },
        {
            "cell_type": "markdown",
            "metadata": {
                "collapsed": true
            },
            "source": " ### 1. Business Problem"
        },
        {
            "cell_type": "markdown",
            "metadata": {},
            "source": "\nA client of a Real Estate agency requests to find the best zone for an apartment in Bucharest,Romania.<br>\nHis main requests are:\n<ul>\n    <li>to be a family-friendly community</li>\n    <li>to be near the central zone</li>\n    <li>to have a park near the house</li>\n    <li>to be near the metro</li>\n    <li>to have at least one school in the neighbourhood</li>\n</ul>"
        },
        {
            "cell_type": "markdown",
            "metadata": {},
            "source": "### Data Requirements"
        },
        {
            "cell_type": "markdown",
            "metadata": {},
            "source": "\n\n<table  >\n    <tr>\n        <td><center><b> Sources</b></center></td>\n        <td><center><b> Use </b></center></td>\n    </tr>\n    <tr>\n    <td><center>The Foursquare location data</center></td>\n        <td><center><i> I will use the Foursquare location data to fill all the client's requested criteria</i></center></td>\n    </tr>\n    <tr>\n    <td><center><a href=\"https://www.regatta.ro/en/apartments-sale/\">Link to the apartments in the selected zone</a> </center></td>\n        <td><center><i> I will use the apartments website to see which are the offers in the zone</i></center></td>\n    </tr>\n</table>"
        },
        {
            "cell_type": "markdown",
            "metadata": {},
            "source": "### Data Methodology"
        },
        {
            "cell_type": "markdown",
            "metadata": {},
            "source": "1.Analytic Approach- in this case I would use a classification model in order to determine if the received mails are related or not to work\n2.Data Requirements- for this task I would take all the received emails from the account, and the list of employees(email addresses, names) and the list of the people from the management department(email addresses, names)\n3.Data Collection- here I would understand if I have enough information using descriptive statistics and data visualization\n4.Data understanding and preparation- for this task I would use pairwise correlation in order to determine if the collected data is closely correlated, and after that I would clean all the invalid, missing or duplicated data.\n5.Modeling and Evaluation- in the process of modeling I would use a predictive model that would first classify the mails by: job-related and non job-related, and the job-related ones into 4 subcategories:\n1) emergencies(if they contain the key-words like: \"emergency, important, alarm etc. \" and use exclamation marks)\n2) meetings(if they contain the key-words like: \"meeting, meeting room, everybody, conference\" and use time and date formats)\n3)mails from colleagues(if they contain the emails and names of the employees)\n4)mails from the management department( if they contain the emails and names of all the managers and executives)\nIn the process of evaluation:\na) in the first phase: I would use a predictive model to see if the output is aligned to the initial design\nb) in the second phase: I would verify if the data is being properly interpreted within the model."
        },
        {
            "cell_type": "markdown",
            "metadata": {},
            "source": "### Results section"
        },
        {
            "cell_type": "markdown",
            "metadata": {},
            "source": "### Discussion Section"
        },
        {
            "cell_type": "markdown",
            "metadata": {},
            "source": "### Conclusion Section"
        },
        {
            "cell_type": "code",
            "execution_count": null,
            "metadata": {},
            "outputs": [],
            "source": ""
        }
    ],
    "metadata": {
        "kernelspec": {
            "display_name": "Python 3.7",
            "language": "python",
            "name": "python3"
        },
        "language_info": {
            "codemirror_mode": {
                "name": "ipython",
                "version": 3
            },
            "file_extension": ".py",
            "mimetype": "text/x-python",
            "name": "python",
            "nbconvert_exporter": "python",
            "pygments_lexer": "ipython3",
            "version": "3.7.10"
        }
    },
    "nbformat": 4,
    "nbformat_minor": 1
}