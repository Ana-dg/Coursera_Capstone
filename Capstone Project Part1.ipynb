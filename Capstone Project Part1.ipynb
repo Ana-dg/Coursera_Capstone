{
    "cells": [
        {
            "cell_type": "markdown",
            "metadata": {},
            "source": " # My Capstone Project "
        },
        {
            "cell_type": "markdown",
            "metadata": {
                "collapsed": true
            },
            "source": " ### 1. Business Problem"
        },
        {
            "cell_type": "markdown",
            "metadata": {},
            "source": "<b>Background</b><br>\nNowadays there are a variety of choices, especially when it comes to real estate. I'm part of the DataScientists group of a Real Estate agency and I was requested to find the best apartment in Bucharest, Romania and to fit the criteria set by the client.<br>"
        },
        {
            "cell_type": "markdown",
            "metadata": {},
            "source": "His main requests are:\n<ul>\n    <li>to have 1 or 2 rooms</li>\n    <li>to be a family-friendly community</li>\n    <li>to be near the central zone</li>\n    <li>to have a park near the house</li>\n    <li>to be near the metro</li>\n    <li>to have at least one school in the neighbourhood</li>\n</ul>"
        },
        {
            "cell_type": "markdown",
            "metadata": {},
            "source": "<b>Problem</b><br>\nWhat is the best option of a family apartment in Bucharest in 2021?\n"
        },
        {
            "cell_type": "markdown",
            "metadata": {},
            "source": "### 2. Data Requirements"
        },
        {
            "cell_type": "markdown",
            "metadata": {},
            "source": "\n<b>Sources</b>\n<ul>\n    <li><i>The Foursquare location data</i>- I will use the Foursquare location data to fill all the client's requested criteria about how the zone should be like</li>\n    <li><i>Real Estate csv</i>- I will use a Real Estate csv found on kaggle with the prices and the locations of the apartments(from april 2021), which will give me the opportunity to search for an apartment that will suit my client the best <br>\n    The columns of the csv are: location_area, price, rooms_count and subway_distance</li>\n</ul>\n\n"
        },
        {
            "cell_type": "code",
            "execution_count": null,
            "metadata": {},
            "outputs": [],
            "source": ""
        }
    ],
    "metadata": {
        "kernelspec": {
            "display_name": "Python 3.7",
            "language": "python",
            "name": "python3"
        },
        "language_info": {
            "codemirror_mode": {
                "name": "ipython",
                "version": 3
            },
            "file_extension": ".py",
            "mimetype": "text/x-python",
            "name": "python",
            "nbconvert_exporter": "python",
            "pygments_lexer": "ipython3",
            "version": "3.7.10"
        }
    },
    "nbformat": 4,
    "nbformat_minor": 1
}